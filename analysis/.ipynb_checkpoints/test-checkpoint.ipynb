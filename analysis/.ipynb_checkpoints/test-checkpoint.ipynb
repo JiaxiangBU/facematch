{
 "cells": [
  {
   "cell_type": "code",
   "execution_count": 8,
   "metadata": {},
   "outputs": [
    {
     "ename": "ImportError",
     "evalue": "attempted relative import with no known parent package",
     "output_type": "error",
     "traceback": [
      "\u001b[1;31m---------------------------------------------------------------------------\u001b[0m",
      "\u001b[1;31mImportError\u001b[0m                               Traceback (most recent call last)",
      "\u001b[1;32m<ipython-input-8-dc01bbd8200b>\u001b[0m in \u001b[0;36m<module>\u001b[1;34m()\u001b[0m\n\u001b[0;32m      1\u001b[0m \u001b[1;32mimport\u001b[0m \u001b[0mtensorflow\u001b[0m \u001b[1;32mas\u001b[0m \u001b[0mtf\u001b[0m\u001b[1;33m\u001b[0m\u001b[0m\n\u001b[1;32m----> 2\u001b[1;33m \u001b[1;32mfrom\u001b[0m \u001b[1;33m.\u001b[0m\u001b[0m_pkg_\u001b[0m\u001b[1;33m.\u001b[0m\u001b[0malign\u001b[0m \u001b[1;32mimport\u001b[0m \u001b[0mdetect_face\u001b[0m\u001b[1;33m\u001b[0m\u001b[0m\n\u001b[0m\u001b[0;32m      3\u001b[0m \u001b[1;32mimport\u001b[0m \u001b[0mcv2\u001b[0m\u001b[1;33m\u001b[0m\u001b[0m\n\u001b[0;32m      4\u001b[0m \u001b[1;32mimport\u001b[0m \u001b[0mimutils\u001b[0m\u001b[1;33m\u001b[0m\u001b[0m\n\u001b[0;32m      5\u001b[0m \u001b[1;32mimport\u001b[0m \u001b[0mnumpy\u001b[0m \u001b[1;32mas\u001b[0m \u001b[0mnp\u001b[0m\u001b[1;33m\u001b[0m\u001b[0m\n",
      "\u001b[1;31mImportError\u001b[0m: attempted relative import with no known parent package"
     ]
    }
   ],
   "source": [
    "import tensorflow as tf\n",
    "from align import detect_face\n",
    "import cv2\n",
    "import imutils\n",
    "import numpy as np\n",
    "import argparse\n",
    "\n",
    "parser = argparse.ArgumentParser()\n",
    "parser.add_argument(\"--img\", type = str, required=True)\n",
    "args = parser.parse_args()\n",
    "\n",
    "# some constants kept as default from facenet\n",
    "minsize = 20\n",
    "threshold = [0.6, 0.7, 0.7]\n",
    "factor = 0.709\n",
    "margin = 44\n",
    "input_image_size = 160\n",
    "\n",
    "sess = tf.Session()\n",
    "# read pnet, rnet, onet models from align directory and files are det1.npy, det2.npy, det3.npy\n",
    "pnet, rnet, onet = detect_face.create_mtcnn(sess, 'align')\n",
    "\n",
    "def getFace(img):\n",
    "    faces = []\n",
    "    img_size = np.asarray(img.shape)[0:2]\n",
    "    bounding_boxes, _ = detect_face.detect_face(img, minsize, pnet, rnet, onet, threshold, factor)\n",
    "    if not len(bounding_boxes) == 0:\n",
    "        for face in bounding_boxes:\n",
    "            if face[4] > 0.50:\n",
    "                det = np.squeeze(face[0:4])\n",
    "                bb = np.zeros(4, dtype=np.int32)\n",
    "                bb[0] = np.maximum(det[0] - margin / 2, 0)\n",
    "                bb[1] = np.maximum(det[1] - margin / 2, 0)\n",
    "                bb[2] = np.minimum(det[2] + margin / 2, img_size[1])\n",
    "                bb[3] = np.minimum(det[3] + margin / 2, img_size[0])\n",
    "                cropped = img[bb[1]:bb[3], bb[0]:bb[2], :]\n",
    "                resized = cv2.resize(cropped, (input_image_size,input_image_size),interpolation=cv2.INTER_AREA)\n",
    "                faces.append({'face':resized,'rect':[bb[0],bb[1],bb[2],bb[3]]})\n",
    "    return faces\n",
    "\n",
    "img = cv2.imread(args.img)\n",
    "img = imutils.resize(img,width=1000)\n",
    "faces = getFace(img)\n",
    "for face in faces:\n",
    "    cv2.rectangle(img, (face['rect'][0], face['rect'][1]), (face['rect'][2], face['rect'][3]), (0, 255, 0), 2)\n",
    "cv2.imshow(\"faces\", img)\n",
    "cv2.waitKey(0)\n",
    "cv2.destroyAllWindows()"
   ]
  }
 ],
 "metadata": {
  "kernelspec": {
   "display_name": "Python 3",
   "language": "python",
   "name": "python3"
  },
  "language_info": {
   "codemirror_mode": {
    "name": "ipython",
    "version": 3
   },
   "file_extension": ".py",
   "mimetype": "text/x-python",
   "name": "python",
   "nbconvert_exporter": "python",
   "pygments_lexer": "ipython3",
   "version": "3.5.4"
  }
 },
 "nbformat": 4,
 "nbformat_minor": 2
}
